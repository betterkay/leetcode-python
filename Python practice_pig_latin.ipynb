{
 "cells": [
  {
   "cell_type": "markdown",
   "metadata": {},
   "source": [
    "Write a pig latin translator. Given a phrase in english, return the pig latin.\n",
    "\n",
    "If the word starts with a consonant, move consonant to the end and add ay.\n",
    "\n",
    "cat->atcay\n",
    "\n",
    "If the word starts with a vowel, add hay.\n",
    "\n",
    "orange->orangehay\n",
    "\n",
    "If the word starts with more than one consonant, move all of them to the end and add ay.\n",
    "\n",
    "string->ingstray\n",
    "\n",
    "Start by assuming the phrase is all lowercase with no punctuation."
   ]
  },
  {
   "cell_type": "markdown",
   "metadata": {},
   "source": [
    "# First time answer"
   ]
  },
  {
   "cell_type": "code",
   "execution_count": 9,
   "metadata": {},
   "outputs": [],
   "source": [
    "import string\n",
    "alpha = list(string.ascii_lowercase)"
   ]
  },
  {
   "cell_type": "code",
   "execution_count": 16,
   "metadata": {},
   "outputs": [],
   "source": [
    "vowels = ['a', 'e', 'i', 'o', 'u']\n",
    "vowels = set(vowels)"
   ]
  },
  {
   "cell_type": "code",
   "execution_count": 14,
   "metadata": {},
   "outputs": [
    {
     "name": "stdout",
     "output_type": "stream",
     "text": [
      "set(['c', 'b', 'd', 'g', 'f', 'h', 'k', 'j', 'm', 'l', 'n', 'q', 'p', 's', 'r', 't', 'w', 'v', 'y', 'x', 'z'])\n"
     ]
    }
   ],
   "source": [
    "consonants = set()\n",
    "for i in alpha:\n",
    "    if not i in vowels:\n",
    "        consonants.add(i)\n",
    "print consonants"
   ]
  },
  {
   "cell_type": "code",
   "execution_count": 58,
   "metadata": {},
   "outputs": [],
   "source": [
    "def pig(word):\n",
    "    if word[0] in vowels:\n",
    "        return word + 'hay'\n",
    "    else:\n",
    "        for i in range(0,len(word)):\n",
    "            if word[i] in vowels:\n",
    "                break  \n",
    "        return word[i:] + word[:i] +'ay'\n",
    "  \n",
    "            "
   ]
  },
  {
   "cell_type": "code",
   "execution_count": 49,
   "metadata": {},
   "outputs": [
    {
     "name": "stdout",
     "output_type": "stream",
     "text": [
      "orangehay\n"
     ]
    }
   ],
   "source": [
    "print pig('orange')  "
   ]
  },
  {
   "cell_type": "code",
   "execution_count": 57,
   "metadata": {},
   "outputs": [
    {
     "name": "stdout",
     "output_type": "stream",
     "text": [
      "aeiouhay\n"
     ]
    }
   ],
   "source": [
    "print pig('aeiou')"
   ]
  },
  {
   "cell_type": "markdown",
   "metadata": {},
   "source": [
    "Special case\n",
    " - all consonant\n",
    " - len(word) = 1\n",
    " - space"
   ]
  },
  {
   "cell_type": "markdown",
   "metadata": {},
   "source": [
    "# Optimal result"
   ]
  },
  {
   "cell_type": "code",
   "execution_count": 62,
   "metadata": {},
   "outputs": [],
   "source": [
    "def pig(word):\n",
    "    if word[0] in vowels:\n",
    "        return word + 'hay'\n",
    "    else:\n",
    "        for i in range(0,len(word)):\n",
    "            if word[i] in vowels:\n",
    "                return word[i:] + word[:i] +'ay'  \n",
    "        return word +'ay'\n",
    "  \n",
    "            "
   ]
  },
  {
   "cell_type": "code",
   "execution_count": 63,
   "metadata": {},
   "outputs": [
    {
     "data": {
      "text/plain": [
       "'ingstray'"
      ]
     },
     "execution_count": 63,
     "metadata": {},
     "output_type": "execute_result"
    }
   ],
   "source": [
    "pig(\"string\")"
   ]
  },
  {
   "cell_type": "markdown",
   "metadata": {},
   "source": [
    "lessons\n",
    " - multipe returns in function will just have one return\n",
    " - think about the corner case"
   ]
  },
  {
   "cell_type": "code",
   "execution_count": null,
   "metadata": {},
   "outputs": [],
   "source": []
  }
 ],
 "metadata": {
  "kernelspec": {
   "display_name": "Python 2",
   "language": "python",
   "name": "python2"
  },
  "language_info": {
   "codemirror_mode": {
    "name": "ipython",
    "version": 2
   },
   "file_extension": ".py",
   "mimetype": "text/x-python",
   "name": "python",
   "nbconvert_exporter": "python",
   "pygments_lexer": "ipython2",
   "version": "2.7.14"
  }
 },
 "nbformat": 4,
 "nbformat_minor": 2
}
